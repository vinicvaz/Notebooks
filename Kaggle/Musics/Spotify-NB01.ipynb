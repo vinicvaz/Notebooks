{
 "cells": [
  {
   "cell_type": "code",
   "execution_count": 7,
   "metadata": {},
   "outputs": [
    {
     "name": "stdout",
     "output_type": "stream",
     "text": [
      "Populating the interactive namespace from numpy and matplotlib\n"
     ]
    }
   ],
   "source": [
    "import pandas as pd\n",
    "import numpy as np\n",
    "%matplotlib inline\n",
    "from sklearn.metrics import mean_squared_error\n",
    "%pylab inline\n",
    "\n",
    "from sklearn.ensemble import RandomForestRegressor\n",
    "from category_encoders import OrdinalEncoder, TargetEncoder, OneHotEncoder\n",
    "from sklearn.model_selection import GroupShuffleSplit\n",
    "\n",
    "from sklearn.preprocessing import StandardScaler\n",
    "\n",
    "import tensorflow as tf\n",
    "\n",
    "from tensorflow import keras\n",
    "from tensorflow.keras import layers\n",
    "\n",
    "from lightgbm import LGBMRegressor\n",
    "\n",
    "from catboost import CatBoostRegressor"
   ]
  },
  {
   "cell_type": "code",
   "execution_count": 16,
   "metadata": {},
   "outputs": [],
   "source": [
    "## Importing Data\n",
    "df = pd.read_csv('./data/SpotifyFeatures.csv')\n",
    "## Target\n",
    "y = df.popularity"
   ]
  },
  {
   "cell_type": "markdown",
   "metadata": {},
   "source": [
    "# 1.0 - Superficial Exploratory Data Analysis"
   ]
  },
  {
   "cell_type": "code",
   "execution_count": 22,
   "metadata": {},
   "outputs": [
    {
     "data": {
      "text/html": [
       "<div>\n",
       "<style scoped>\n",
       "    .dataframe tbody tr th:only-of-type {\n",
       "        vertical-align: middle;\n",
       "    }\n",
       "\n",
       "    .dataframe tbody tr th {\n",
       "        vertical-align: top;\n",
       "    }\n",
       "\n",
       "    .dataframe thead th {\n",
       "        text-align: right;\n",
       "    }\n",
       "</style>\n",
       "<table border=\"1\" class=\"dataframe\">\n",
       "  <thead>\n",
       "    <tr style=\"text-align: right;\">\n",
       "      <th></th>\n",
       "      <th>genre</th>\n",
       "      <th>artist_name</th>\n",
       "      <th>track_name</th>\n",
       "      <th>track_id</th>\n",
       "      <th>popularity</th>\n",
       "      <th>acousticness</th>\n",
       "      <th>danceability</th>\n",
       "      <th>duration_ms</th>\n",
       "      <th>energy</th>\n",
       "      <th>instrumentalness</th>\n",
       "      <th>key</th>\n",
       "      <th>liveness</th>\n",
       "      <th>loudness</th>\n",
       "      <th>mode</th>\n",
       "      <th>speechiness</th>\n",
       "      <th>tempo</th>\n",
       "      <th>time_signature</th>\n",
       "      <th>valence</th>\n",
       "    </tr>\n",
       "  </thead>\n",
       "  <tbody>\n",
       "    <tr>\n",
       "      <th>0</th>\n",
       "      <td>Movie</td>\n",
       "      <td>Henri Salvador</td>\n",
       "      <td>C'est beau de faire un Show</td>\n",
       "      <td>0BRjO6ga9RKCKjfDqeFgWV</td>\n",
       "      <td>0</td>\n",
       "      <td>0.611</td>\n",
       "      <td>0.389</td>\n",
       "      <td>99373</td>\n",
       "      <td>0.910</td>\n",
       "      <td>0.000</td>\n",
       "      <td>C#</td>\n",
       "      <td>0.3460</td>\n",
       "      <td>-1.828</td>\n",
       "      <td>Major</td>\n",
       "      <td>0.0525</td>\n",
       "      <td>166.969</td>\n",
       "      <td>4/4</td>\n",
       "      <td>0.814</td>\n",
       "    </tr>\n",
       "    <tr>\n",
       "      <th>1</th>\n",
       "      <td>Movie</td>\n",
       "      <td>Martin &amp; les fées</td>\n",
       "      <td>Perdu d'avance (par Gad Elmaleh)</td>\n",
       "      <td>0BjC1NfoEOOusryehmNudP</td>\n",
       "      <td>1</td>\n",
       "      <td>0.246</td>\n",
       "      <td>0.590</td>\n",
       "      <td>137373</td>\n",
       "      <td>0.737</td>\n",
       "      <td>0.000</td>\n",
       "      <td>F#</td>\n",
       "      <td>0.1510</td>\n",
       "      <td>-5.559</td>\n",
       "      <td>Minor</td>\n",
       "      <td>0.0868</td>\n",
       "      <td>174.003</td>\n",
       "      <td>4/4</td>\n",
       "      <td>0.816</td>\n",
       "    </tr>\n",
       "    <tr>\n",
       "      <th>2</th>\n",
       "      <td>Movie</td>\n",
       "      <td>Joseph Williams</td>\n",
       "      <td>Don't Let Me Be Lonely Tonight</td>\n",
       "      <td>0CoSDzoNIKCRs124s9uTVy</td>\n",
       "      <td>3</td>\n",
       "      <td>0.952</td>\n",
       "      <td>0.663</td>\n",
       "      <td>170267</td>\n",
       "      <td>0.131</td>\n",
       "      <td>0.000</td>\n",
       "      <td>C</td>\n",
       "      <td>0.1030</td>\n",
       "      <td>-13.879</td>\n",
       "      <td>Minor</td>\n",
       "      <td>0.0362</td>\n",
       "      <td>99.488</td>\n",
       "      <td>5/4</td>\n",
       "      <td>0.368</td>\n",
       "    </tr>\n",
       "    <tr>\n",
       "      <th>3</th>\n",
       "      <td>Movie</td>\n",
       "      <td>Henri Salvador</td>\n",
       "      <td>Dis-moi Monsieur Gordon Cooper</td>\n",
       "      <td>0Gc6TVm52BwZD07Ki6tIvf</td>\n",
       "      <td>0</td>\n",
       "      <td>0.703</td>\n",
       "      <td>0.240</td>\n",
       "      <td>152427</td>\n",
       "      <td>0.326</td>\n",
       "      <td>0.000</td>\n",
       "      <td>C#</td>\n",
       "      <td>0.0985</td>\n",
       "      <td>-12.178</td>\n",
       "      <td>Major</td>\n",
       "      <td>0.0395</td>\n",
       "      <td>171.758</td>\n",
       "      <td>4/4</td>\n",
       "      <td>0.227</td>\n",
       "    </tr>\n",
       "    <tr>\n",
       "      <th>4</th>\n",
       "      <td>Movie</td>\n",
       "      <td>Fabien Nataf</td>\n",
       "      <td>Ouverture</td>\n",
       "      <td>0IuslXpMROHdEPvSl1fTQK</td>\n",
       "      <td>4</td>\n",
       "      <td>0.950</td>\n",
       "      <td>0.331</td>\n",
       "      <td>82625</td>\n",
       "      <td>0.225</td>\n",
       "      <td>0.123</td>\n",
       "      <td>F</td>\n",
       "      <td>0.2020</td>\n",
       "      <td>-21.150</td>\n",
       "      <td>Major</td>\n",
       "      <td>0.0456</td>\n",
       "      <td>140.576</td>\n",
       "      <td>4/4</td>\n",
       "      <td>0.390</td>\n",
       "    </tr>\n",
       "  </tbody>\n",
       "</table>\n",
       "</div>"
      ],
      "text/plain": [
       "   genre        artist_name                        track_name  \\\n",
       "0  Movie     Henri Salvador       C'est beau de faire un Show   \n",
       "1  Movie  Martin & les fées  Perdu d'avance (par Gad Elmaleh)   \n",
       "2  Movie    Joseph Williams    Don't Let Me Be Lonely Tonight   \n",
       "3  Movie     Henri Salvador    Dis-moi Monsieur Gordon Cooper   \n",
       "4  Movie       Fabien Nataf                         Ouverture   \n",
       "\n",
       "                 track_id  popularity  acousticness  danceability  \\\n",
       "0  0BRjO6ga9RKCKjfDqeFgWV           0         0.611         0.389   \n",
       "1  0BjC1NfoEOOusryehmNudP           1         0.246         0.590   \n",
       "2  0CoSDzoNIKCRs124s9uTVy           3         0.952         0.663   \n",
       "3  0Gc6TVm52BwZD07Ki6tIvf           0         0.703         0.240   \n",
       "4  0IuslXpMROHdEPvSl1fTQK           4         0.950         0.331   \n",
       "\n",
       "   duration_ms  energy  instrumentalness key  liveness  loudness   mode  \\\n",
       "0        99373   0.910             0.000  C#    0.3460    -1.828  Major   \n",
       "1       137373   0.737             0.000  F#    0.1510    -5.559  Minor   \n",
       "2       170267   0.131             0.000   C    0.1030   -13.879  Minor   \n",
       "3       152427   0.326             0.000  C#    0.0985   -12.178  Major   \n",
       "4        82625   0.225             0.123   F    0.2020   -21.150  Major   \n",
       "\n",
       "   speechiness    tempo time_signature  valence  \n",
       "0       0.0525  166.969            4/4    0.814  \n",
       "1       0.0868  174.003            4/4    0.816  \n",
       "2       0.0362   99.488            5/4    0.368  \n",
       "3       0.0395  171.758            4/4    0.227  \n",
       "4       0.0456  140.576            4/4    0.390  "
      ]
     },
     "execution_count": 22,
     "metadata": {},
     "output_type": "execute_result"
    }
   ],
   "source": [
    "## Looking the full data\n",
    "df.head()"
   ]
  },
  {
   "cell_type": "code",
   "execution_count": 23,
   "metadata": {},
   "outputs": [
    {
     "data": {
      "text/plain": [
       "genre               0\n",
       "artist_name         0\n",
       "track_name          0\n",
       "track_id            0\n",
       "popularity          0\n",
       "acousticness        0\n",
       "danceability        0\n",
       "duration_ms         0\n",
       "energy              0\n",
       "instrumentalness    0\n",
       "key                 0\n",
       "liveness            0\n",
       "loudness            0\n",
       "mode                0\n",
       "speechiness         0\n",
       "tempo               0\n",
       "time_signature      0\n",
       "valence             0\n",
       "dtype: int64"
      ]
     },
     "execution_count": 23,
     "metadata": {},
     "output_type": "execute_result"
    }
   ],
   "source": [
    "## Checking NULL\n",
    "df.isnull().sum()"
   ]
  },
  {
   "cell_type": "code",
   "execution_count": 24,
   "metadata": {},
   "outputs": [
    {
     "name": "stdout",
     "output_type": "stream",
     "text": [
      "Popularity max value: 100\n",
      "Popularity min value; 0\n"
     ]
    }
   ],
   "source": [
    "print(\"Popularity max value:\",df.popularity.max())\n",
    "print(\"Popularity min value;\",df.popularity.min())"
   ]
  },
  {
   "cell_type": "code",
   "execution_count": 25,
   "metadata": {},
   "outputs": [
    {
     "data": {
      "text/plain": [
       "genre\n",
       "Children's Music     4.252637\n",
       "A Capella            9.302521\n",
       "Movie               12.174097\n",
       "Opera               13.335628\n",
       "Comedy              21.342630\n",
       "Anime               24.258729\n",
       "Ska                 28.612351\n",
       "Classical           29.282195\n",
       "Soundtrack          33.954800\n",
       "Blues               34.742879\n",
       "World               35.524077\n",
       "Reggae              35.589328\n",
       "Reggaeton           37.742915\n",
       "Electronic          38.056095\n",
       "Jazz                40.824383\n",
       "Country             46.100416\n",
       "Soul                47.027836\n",
       "Folk                49.940209\n",
       "Alternative         50.213430\n",
       "R&B                 52.308719\n",
       "Children’s Music    54.659040\n",
       "Indie               54.701561\n",
       "Dance               57.275256\n",
       "Hip-Hop             58.423131\n",
       "Rock                59.619392\n",
       "Rap                 60.533795\n",
       "Pop                 66.590667\n",
       "Name: popularity, dtype: float64"
      ]
     },
     "execution_count": 25,
     "metadata": {},
     "output_type": "execute_result"
    }
   ],
   "source": [
    "df.groupby('genre').mean().popularity.sort_values()"
   ]
  },
  {
   "cell_type": "markdown",
   "metadata": {},
   "source": [
    "# 2.0 - Splitting, Validation, Baseline"
   ]
  },
  {
   "cell_type": "code",
   "execution_count": 81,
   "metadata": {},
   "outputs": [],
   "source": [
    "grp_splitter = GroupShuffleSplit(n_splits=1,random_state=0)\n",
    "\n",
    "rows_train, rows_test = next(grp_splitter.split(df,y,groups=df['track_id']))\n",
    "\n",
    "Xtrain, Xtest = df.iloc[rows_train].drop('popularity',axis=1), df.iloc[rows_test].drop('popularity',axis=1)\n",
    "ytrain, ytest = df.popularity.iloc[rows_train], df.popularity.iloc[rows_test]"
   ]
  },
  {
   "cell_type": "markdown",
   "metadata": {},
   "source": [
    "### 2.1 - Baselines"
   ]
  },
  {
   "cell_type": "code",
   "execution_count": 83,
   "metadata": {},
   "outputs": [
    {
     "data": {
      "text/plain": [
       "94.45642029514539"
      ]
     },
     "execution_count": 83,
     "metadata": {},
     "output_type": "execute_result"
    }
   ],
   "source": [
    "## Baseline Genre\n",
    "genre_base = df.iloc[rows_train].groupby('genre')['popularity'].mean()\n",
    "p_base = df.iloc[rows_test].genre.map(genre_base)\n",
    "mean_squared_error(ytest,p_base)"
   ]
  },
  {
   "cell_type": "code",
   "execution_count": 93,
   "metadata": {},
   "outputs": [
    {
     "data": {
      "text/plain": [
       "334.28313875548116"
      ]
     },
     "execution_count": 93,
     "metadata": {},
     "output_type": "execute_result"
    }
   ],
   "source": [
    "## Baseline Artist\n",
    "artist_base = df.iloc[rows_train].groupby('artist_name').popularity.mean()\n",
    "p_base = df.iloc[rows_test].genre.map(artist_base).fillna(ytrain.mean())\n",
    "mean_squared_error(ytest,p_base)\n"
   ]
  },
  {
   "cell_type": "markdown",
   "metadata": {},
   "source": [
    "# 3.0 - Embeddings"
   ]
  },
  {
   "cell_type": "code",
   "execution_count": 107,
   "metadata": {},
   "outputs": [],
   "source": [
    "## Encoders\n",
    "\n",
    "ordinal_encoder = OrdinalEncoder(cols=['genre','artist_name'], handle_unknown='return_nan')\n",
    "Xtrain2 = ordinal_encoder.fit_transform(Xtrain,ytrain)\n",
    "Xtest2 = ordinal_encoder.transform(Xtest)\n",
    "\n",
    "Xtest2['genre'] = Xtest2['genre'].fillna(28)\n",
    "Xtest2['artist_name'] = Xtest2['artist_name'].fillna(13587)"
   ]
  },
  {
   "cell_type": "code",
   "execution_count": 118,
   "metadata": {},
   "outputs": [],
   "source": [
    "## Genre Embedding\n",
    "genre_input = layers.Input((1,))\n",
    "genre_embedding = layers.Embedding(29,5)(genre_input)\n",
    "genre_embedding = layers.Flatten()(genre_embedding)\n",
    "\n",
    "## Artist Embedding\n",
    "\n",
    "artist_name_input = layers.Input((1,))\n",
    "artist_embedding = layers.Embedding(13588,5)(artist_name_input)\n",
    "artist_embedding = layers.Flatten()(artist_embedding)\n",
    "\n",
    "concat = layers.concatenate([genre_embedding, artist_embedding])\n",
    "hidden1 = layers.Dense(10, activation='relu')(concat)\n",
    "drop1 = layers.Dropout(0.5)(hidden1)\n",
    "out = layers.Dense(1)(hidden1)"
   ]
  },
  {
   "cell_type": "code",
   "execution_count": 119,
   "metadata": {},
   "outputs": [],
   "source": [
    "mdl = keras.Model([genre_input, artist_name_input], out)\n",
    "mdl.compile(loss='mse',optimizer='adam')"
   ]
  },
  {
   "cell_type": "code",
   "execution_count": 120,
   "metadata": {},
   "outputs": [
    {
     "name": "stdout",
     "output_type": "stream",
     "text": [
      "Model: \"model_2\"\n",
      "__________________________________________________________________________________________________\n",
      "Layer (type)                    Output Shape         Param #     Connected to                     \n",
      "==================================================================================================\n",
      "input_8 (InputLayer)            [(None, 1)]          0                                            \n",
      "__________________________________________________________________________________________________\n",
      "input_9 (InputLayer)            [(None, 1)]          0                                            \n",
      "__________________________________________________________________________________________________\n",
      "embedding_6 (Embedding)         (None, 1, 5)         145         input_8[0][0]                    \n",
      "__________________________________________________________________________________________________\n",
      "embedding_7 (Embedding)         (None, 1, 5)         67940       input_9[0][0]                    \n",
      "__________________________________________________________________________________________________\n",
      "flatten_6 (Flatten)             (None, 5)            0           embedding_6[0][0]                \n",
      "__________________________________________________________________________________________________\n",
      "flatten_7 (Flatten)             (None, 5)            0           embedding_7[0][0]                \n",
      "__________________________________________________________________________________________________\n",
      "concatenate_2 (Concatenate)     (None, 10)           0           flatten_6[0][0]                  \n",
      "                                                                 flatten_7[0][0]                  \n",
      "__________________________________________________________________________________________________\n",
      "dense_4 (Dense)                 (None, 10)           110         concatenate_2[0][0]              \n",
      "__________________________________________________________________________________________________\n",
      "dense_5 (Dense)                 (None, 1)            11          dense_4[0][0]                    \n",
      "==================================================================================================\n",
      "Total params: 68,206\n",
      "Trainable params: 68,206\n",
      "Non-trainable params: 0\n",
      "__________________________________________________________________________________________________\n"
     ]
    }
   ],
   "source": [
    "mdl.summary()"
   ]
  },
  {
   "cell_type": "code",
   "execution_count": 122,
   "metadata": {},
   "outputs": [],
   "source": [
    "train_X = [Xtrain2[['genre']].values, Xtrain2[['artist_name']].values]\n",
    "test_X = [Xtest2[['genre']].values, Xtest2[['artist_name']].values]"
   ]
  },
  {
   "cell_type": "code",
   "execution_count": 132,
   "metadata": {},
   "outputs": [
    {
     "name": "stdout",
     "output_type": "stream",
     "text": [
      "Train on 186358 samples, validate on 46367 samples\n",
      "Epoch 1/5\n",
      "186358/186358 [==============================] - 10s 51us/sample - loss: 314.4256 - val_loss: 73.3152\n",
      "Epoch 2/5\n",
      "186358/186358 [==============================] - 7s 37us/sample - loss: 66.5064 - val_loss: 71.0044\n",
      "Epoch 3/5\n",
      "186358/186358 [==============================] - 7s 37us/sample - loss: 64.4550 - val_loss: 71.0925\n",
      "Epoch 4/5\n",
      "186358/186358 [==============================] - 7s 37us/sample - loss: 63.6390 - val_loss: 70.9114\n",
      "Epoch 5/5\n",
      "186358/186358 [==============================] - 7s 37us/sample - loss: 63.1667 - val_loss: 70.9141\n"
     ]
    },
    {
     "data": {
      "text/plain": [
       "<tensorflow.python.keras.callbacks.History at 0x7fbeff60de80>"
      ]
     },
     "execution_count": 132,
     "metadata": {},
     "output_type": "execute_result"
    }
   ],
   "source": [
    "mdl.fit(train_X,ytrain.values, validation_data=[test_X,ytest.values],batch_size=64, epochs=5)"
   ]
  },
  {
   "cell_type": "markdown",
   "metadata": {},
   "source": [
    "# 4.0 - Neural Netwowrk + Numeric Features"
   ]
  },
  {
   "cell_type": "code",
   "execution_count": 140,
   "metadata": {},
   "outputs": [],
   "source": [
    "Xtrain2_num = Xtrain.select_dtypes(include=np.number)\n",
    "Xtest2_num = Xtest.select_dtypes(include=np.number)\n",
    "\n",
    "scaler = StandardScaler()\n",
    "Xtrain2_num = scaler.fit_transform(Xtrain2_num)\n",
    "Xtest2_num = scaler.transform(Xtest2_num)"
   ]
  },
  {
   "cell_type": "code",
   "execution_count": 143,
   "metadata": {},
   "outputs": [],
   "source": [
    "## Genre Embedding\n",
    "genre_input = layers.Input((1,))\n",
    "genre_embedding = layers.Embedding(29,5)(genre_input)\n",
    "genre_embedding = layers.Flatten()(genre_embedding)\n",
    "\n",
    "## Artist Embedding\n",
    "artist_name_input = layers.Input((1,))\n",
    "artist_embedding = layers.Embedding(13588,5)(artist_name_input)\n",
    "artist_embedding = layers.Flatten()(artist_embedding)\n",
    "\n",
    "## Numeric Features\n",
    "nums = layers.Input((Xtrain2_num.shape[1],))\n",
    "\n",
    "concat = layers.concatenate([genre_embedding, artist_embedding, nums])\n",
    "hidden1 = layers.Dense(10, activation='relu')(concat)\n",
    "drop1 = layers.Dropout(0.5)(hidden1)\n",
    "out = layers.Dense(1)(hidden1)"
   ]
  },
  {
   "cell_type": "code",
   "execution_count": 145,
   "metadata": {},
   "outputs": [],
   "source": [
    "mdl = keras.Model([genre_input, artist_name_input, nums], out)\n",
    "mdl.compile(loss='mse', optimizer='adam')"
   ]
  },
  {
   "cell_type": "code",
   "execution_count": 146,
   "metadata": {},
   "outputs": [
    {
     "name": "stdout",
     "output_type": "stream",
     "text": [
      "Model: \"model_4\"\n",
      "__________________________________________________________________________________________________\n",
      "Layer (type)                    Output Shape         Param #     Connected to                     \n",
      "==================================================================================================\n",
      "input_22 (InputLayer)           [(None, 1)]          0                                            \n",
      "__________________________________________________________________________________________________\n",
      "input_23 (InputLayer)           [(None, 1)]          0                                            \n",
      "__________________________________________________________________________________________________\n",
      "embedding_16 (Embedding)        (None, 1, 5)         145         input_22[0][0]                   \n",
      "__________________________________________________________________________________________________\n",
      "embedding_17 (Embedding)        (None, 1, 5)         67940       input_23[0][0]                   \n",
      "__________________________________________________________________________________________________\n",
      "flatten_16 (Flatten)            (None, 5)            0           embedding_16[0][0]               \n",
      "__________________________________________________________________________________________________\n",
      "flatten_17 (Flatten)            (None, 5)            0           embedding_17[0][0]               \n",
      "__________________________________________________________________________________________________\n",
      "input_24 (InputLayer)           [(None, 10)]         0                                            \n",
      "__________________________________________________________________________________________________\n",
      "concatenate_7 (Concatenate)     (None, 20)           0           flatten_16[0][0]                 \n",
      "                                                                 flatten_17[0][0]                 \n",
      "                                                                 input_24[0][0]                   \n",
      "__________________________________________________________________________________________________\n",
      "dense_8 (Dense)                 (None, 10)           210         concatenate_7[0][0]              \n",
      "__________________________________________________________________________________________________\n",
      "dense_9 (Dense)                 (None, 1)            11          dense_8[0][0]                    \n",
      "==================================================================================================\n",
      "Total params: 68,306\n",
      "Trainable params: 68,306\n",
      "Non-trainable params: 0\n",
      "__________________________________________________________________________________________________\n"
     ]
    }
   ],
   "source": [
    "mdl.summary()"
   ]
  },
  {
   "cell_type": "code",
   "execution_count": 147,
   "metadata": {},
   "outputs": [],
   "source": [
    "train_X = [Xtrain2[['genre']].values, Xtrain2[['artist_name']].values, Xtrain2_num]\n",
    "test_X = [Xtest2[['genre']].values, Xtest2[['artist_name']].values, Xtest2_num]"
   ]
  },
  {
   "cell_type": "code",
   "execution_count": 148,
   "metadata": {},
   "outputs": [
    {
     "name": "stdout",
     "output_type": "stream",
     "text": [
      "Train on 186358 samples, validate on 46367 samples\n",
      "Epoch 1/5\n",
      "186358/186358 [==============================] - 9s 50us/sample - loss: 284.5347 - val_loss: 72.9013\n",
      "Epoch 2/5\n",
      "186358/186358 [==============================] - 10s 52us/sample - loss: 65.9726 - val_loss: 70.5731\n",
      "Epoch 3/5\n",
      "186358/186358 [==============================] - 10s 51us/sample - loss: 63.6472 - val_loss: 70.3230\n",
      "Epoch 4/5\n",
      "186358/186358 [==============================] - 10s 52us/sample - loss: 62.7699 - val_loss: 70.1321\n",
      "Epoch 5/5\n",
      "186358/186358 [==============================] - 10s 51us/sample - loss: 62.2421 - val_loss: 69.9325\n"
     ]
    },
    {
     "data": {
      "text/plain": [
       "<tensorflow.python.keras.callbacks.History at 0x7fbefdbcdb38>"
      ]
     },
     "execution_count": 148,
     "metadata": {},
     "output_type": "execute_result"
    }
   ],
   "source": [
    "mdl.fit(train_X, ytrain.values, validation_data=[test_X, ytest.values], batch_size=64, epochs=5)"
   ]
  },
  {
   "cell_type": "code",
   "execution_count": null,
   "metadata": {},
   "outputs": [],
   "source": []
  }
 ],
 "metadata": {
  "kernelspec": {
   "display_name": "Python 3.6 (tensorflow)",
   "language": "python",
   "name": "tensorflow"
  },
  "language_info": {
   "codemirror_mode": {
    "name": "ipython",
    "version": 3
   },
   "file_extension": ".py",
   "mimetype": "text/x-python",
   "name": "python",
   "nbconvert_exporter": "python",
   "pygments_lexer": "ipython3",
   "version": "3.6.9"
  }
 },
 "nbformat": 4,
 "nbformat_minor": 4
}
