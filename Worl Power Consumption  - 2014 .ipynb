{
 "cells": [
  {
   "cell_type": "markdown",
   "metadata": {},
   "source": [
    "# Choropleth \n",
    "\n",
    "[Documentation](https://plot.ly/python/reference/#choropleth)\n",
    "\n",
    "## Imports Plotly "
   ]
  },
  {
   "cell_type": "code",
   "execution_count": 2,
   "metadata": {},
   "outputs": [
    {
     "data": {
      "text/html": [
       "        <script type=\"text/javascript\">\n",
       "        window.PlotlyConfig = {MathJaxConfig: 'local'};\n",
       "        if (window.MathJax) {MathJax.Hub.Config({SVG: {font: \"STIX-Web\"}});}\n",
       "        if (typeof require !== 'undefined') {\n",
       "        require.undef(\"plotly\");\n",
       "        requirejs.config({\n",
       "            paths: {\n",
       "                'plotly': ['https://cdn.plot.ly/plotly-latest.min']\n",
       "            }\n",
       "        });\n",
       "        require(['plotly'], function(Plotly) {\n",
       "            window._Plotly = Plotly;\n",
       "        });\n",
       "        }\n",
       "        </script>\n",
       "        "
      ]
     },
     "metadata": {},
     "output_type": "display_data"
    }
   ],
   "source": [
    "import chart_studio.plotly as py\n",
    "import plotly.graph_objs as go \n",
    "from plotly.offline import init_notebook_mode,iplot\n",
    "init_notebook_mode(connected=True) \n",
    "import pandas as pd"
   ]
  },
  {
   "cell_type": "markdown",
   "metadata": {},
   "source": [
    "**Reading CSV file**"
   ]
  },
  {
   "cell_type": "code",
   "execution_count": 3,
   "metadata": {},
   "outputs": [],
   "source": [
    "energy = pd.read_csv('2014_World_Power_Consumption')"
   ]
  },
  {
   "cell_type": "markdown",
   "metadata": {},
   "source": [
    "**Check the header**"
   ]
  },
  {
   "cell_type": "code",
   "execution_count": 4,
   "metadata": {},
   "outputs": [
    {
     "data": {
      "text/html": [
       "<div>\n",
       "<style scoped>\n",
       "    .dataframe tbody tr th:only-of-type {\n",
       "        vertical-align: middle;\n",
       "    }\n",
       "\n",
       "    .dataframe tbody tr th {\n",
       "        vertical-align: top;\n",
       "    }\n",
       "\n",
       "    .dataframe thead th {\n",
       "        text-align: right;\n",
       "    }\n",
       "</style>\n",
       "<table border=\"1\" class=\"dataframe\">\n",
       "  <thead>\n",
       "    <tr style=\"text-align: right;\">\n",
       "      <th></th>\n",
       "      <th>Country</th>\n",
       "      <th>Power Consumption KWH</th>\n",
       "      <th>Text</th>\n",
       "    </tr>\n",
       "  </thead>\n",
       "  <tbody>\n",
       "    <tr>\n",
       "      <td>0</td>\n",
       "      <td>China</td>\n",
       "      <td>5.523000e+12</td>\n",
       "      <td>China 5,523,000,000,000</td>\n",
       "    </tr>\n",
       "    <tr>\n",
       "      <td>1</td>\n",
       "      <td>United States</td>\n",
       "      <td>3.832000e+12</td>\n",
       "      <td>United 3,832,000,000,000</td>\n",
       "    </tr>\n",
       "    <tr>\n",
       "      <td>2</td>\n",
       "      <td>European</td>\n",
       "      <td>2.771000e+12</td>\n",
       "      <td>European 2,771,000,000,000</td>\n",
       "    </tr>\n",
       "    <tr>\n",
       "      <td>3</td>\n",
       "      <td>Russia</td>\n",
       "      <td>1.065000e+12</td>\n",
       "      <td>Russia 1,065,000,000,000</td>\n",
       "    </tr>\n",
       "    <tr>\n",
       "      <td>4</td>\n",
       "      <td>Japan</td>\n",
       "      <td>9.210000e+11</td>\n",
       "      <td>Japan 921,000,000,000</td>\n",
       "    </tr>\n",
       "  </tbody>\n",
       "</table>\n",
       "</div>"
      ],
      "text/plain": [
       "         Country  Power Consumption KWH                        Text\n",
       "0          China           5.523000e+12     China 5,523,000,000,000\n",
       "1  United States           3.832000e+12    United 3,832,000,000,000\n",
       "2       European           2.771000e+12  European 2,771,000,000,000\n",
       "3         Russia           1.065000e+12    Russia 1,065,000,000,000\n",
       "4          Japan           9.210000e+11       Japan 921,000,000,000"
      ]
     },
     "execution_count": 4,
     "metadata": {},
     "output_type": "execute_result"
    }
   ],
   "source": [
    "energy.head()"
   ]
  },
  {
   "cell_type": "markdown",
   "metadata": {},
   "source": [
    "**Init object fig with data from DF and plot graph**"
   ]
  },
  {
   "cell_type": "code",
   "execution_count": 6,
   "metadata": {},
   "outputs": [
    {
     "data": {
      "application/vnd.plotly.v1+json": {
       "config": {
        "plotlyServerURL": "https://plot.ly"
       },
       "data": [
        {
         "colorbar": {
          "title": {
           "text": "kWh"
          }
         },
         "locationmode": "country names",
         "locations": [
          "China",
          "United States",
          "European",
          "Russia",
          "Japan",
          "India",
          "Germany",
          "Canada",
          "Brazil",
          "Korea,",
          "France",
          "United Kingdom",
          "Italy",
          "Taiwan",
          "Spain",
          "Mexico",
          "Saudi",
          "Australia",
          "South",
          "Turkey",
          "Iran",
          "Indonesia",
          "Ukraine",
          "Thailand",
          "Poland",
          "Egypt",
          "Sweden",
          "Norway",
          "Malaysia",
          "Argentina",
          "Netherlands",
          "Vietnam",
          "Venezuela",
          "United Arab Emirates",
          "Finland",
          "Belgium",
          "Kazakhstan",
          "Pakistan",
          "Philippines",
          "Austria",
          "Chile",
          "Czechia",
          "Israel",
          "Switzerland",
          "Greece",
          "Iraq",
          "Romania",
          "Kuwait",
          "Colombia",
          "Singapore",
          "Portugal",
          "Uzbekistan",
          "Hong",
          "Algeria",
          "Bangladesh",
          "New",
          "Bulgaria",
          "Belarus",
          "Peru",
          "Denmark",
          "Qatar",
          "Slovakia",
          "Libya",
          "Serbia",
          "Morocco",
          "Syria",
          "Nigeria",
          "Ireland",
          "Hungary",
          "Oman",
          "Ecuador",
          "Puerto",
          "Azerbaijan",
          "Croatia",
          "Iceland",
          "Cuba",
          "Korea,",
          "Dominican",
          "Jordan",
          "Tajikistan",
          "Tunisia",
          "Slovenia",
          "Lebanon",
          "Bosnia",
          "Turkmenistan",
          "Bahrain",
          "Mozambique",
          "Ghana",
          "Sri",
          "Kyrgyzstan",
          "Lithuania",
          "Uruguay",
          "Costa",
          "Guatemala",
          "Georgia",
          "Trinidad",
          "Zambia",
          "Paraguay",
          "Albania",
          "Burma",
          "Estonia",
          "Congo,",
          "Panama",
          "Latvia",
          "Macedonia",
          "Zimbabwe",
          "Kenya",
          "Bolivia",
          "Luxembourg",
          "Sudan",
          "El",
          "Cameroon",
          "West",
          "Ethiopia",
          "Armenia",
          "Honduras",
          "Angola",
          "Cote",
          "Tanzania",
          "Nicaragua",
          "Moldova",
          "Cyprus",
          "Macau",
          "Namibia",
          "Mongolia",
          "Afghanistan",
          "Yemen",
          "Brunei",
          "Cambodia",
          "Montenegro",
          "Nepal",
          "Botswana",
          "Papua",
          "Jamaica",
          "Kosovo",
          "Laos",
          "Uganda",
          "New",
          "Mauritius",
          "Senegal",
          "Bhutan",
          "Malawi",
          "Madagascar",
          "Bahamas,",
          "Gabon",
          "Suriname",
          "Guam",
          "Liechtenstein",
          "Swaziland",
          "Burkina",
          "Togo",
          "Curacao",
          "Mauritania",
          "Barbados",
          "Niger",
          "Aruba",
          "Benin",
          "Guinea",
          "Mali",
          "Fiji",
          "Congo,",
          "Virgin",
          "Lesotho",
          "South",
          "Bermuda",
          "French",
          "Jersey",
          "Belize",
          "Andorra",
          "Guyana",
          "Cayman",
          "Haiti",
          "Rwanda",
          "Saint",
          "Djibouti",
          "Seychelles",
          "Somalia",
          "Antigua",
          "Greenland",
          "Cabo",
          "Eritrea",
          "Burundi",
          "Liberia",
          "Maldives",
          "Faroe",
          "Gambia,",
          "Chad",
          "Micronesia,",
          "Grenada",
          "Central",
          "Turks",
          "Gibraltar",
          "American",
          "Sierra",
          "Saint",
          "Saint",
          "Timor-Leste",
          "Equatorial",
          "Samoa",
          "Dominica",
          "Western",
          "Solomon",
          "Sao",
          "British",
          "Vanuatu",
          "Guinea-Bissau",
          "Tonga",
          "Saint",
          "Comoros",
          "Cook",
          "Kiribati",
          "Montserrat",
          "Nauru",
          "Falkland",
          "Saint",
          "Niue",
          "Gaza",
          "Malta",
          "Northern"
         ],
         "text": [
          "Consumption of China 5,523,000,000,000kWh",
          "Consumption of United 3,832,000,000,000kWh",
          "Consumption of European 2,771,000,000,000kWh",
          "Consumption of Russia 1,065,000,000,000kWh",
          "Consumption of Japan 921,000,000,000kWh",
          "Consumption of India 864,700,000,000kWh",
          "Consumption of Germany 540,100,000,000kWh",
          "Consumption of Canada 511,000,000,000kWh",
          "Consumption of Brazil 483,500,000,000kWh",
          "Consumption of Korea, 482,400,000,000kWh",
          "Consumption of France 451,100,000,000kWh",
          "Consumption of United 319,100,000,000kWh",
          "Consumption of Italy 303,100,000,000kWh",
          "Consumption of Taiwan 249,500,000,000kWh",
          "Consumption of Spain 243,100,000,000kWh",
          "Consumption of Mexico 234,000,000,000kWh",
          "Consumption of Saudi 231,600,000,000kWh",
          "Consumption of Australia 222,600,000,000kWh",
          "Consumption of South 211,600,000,000kWh",
          "Consumption of Turkey 197,000,000,000kWh",
          "Consumption of Iran 195,300,000,000kWh",
          "Consumption of Indonesia 167,500,000,000kWh",
          "Consumption of Ukraine 159,800,000,000kWh",
          "Consumption of Thailand 155,900,000,000kWh",
          "Consumption of Poland 139,000,000,000kWh",
          "Consumption of Egypt 135,600,000,000kWh",
          "Consumption of Sweden 130,500,000,000kWh",
          "Consumption of Norway 126,400,000,000kWh",
          "Consumption of Malaysia 118,500,000,000kWh",
          "Consumption of Argentina 117,100,000,000kWh",
          "Consumption of Netherlands 116,800,000,000kWh",
          "Consumption of Vietnam 108,300,000,000kWh",
          "Consumption of Venezuela 97,690,000,000kWh",
          "Consumption of United 93,280,000,000kWh",
          "Consumption of Finland 82,040,000,000kWh",
          "Consumption of Belgium 81,890,000,000kWh",
          "Consumption of Kazakhstan 80,290,000,000kWh",
          "Consumption of Pakistan 78,890,000,000kWh",
          "Consumption of Philippines 75,270,000,000kWh",
          "Consumption of Austria 69,750,000,000kWh",
          "Consumption of Chile 63,390,000,000kWh",
          "Consumption of Czechia 60,550,000,000kWh",
          "Consumption of Israel 59,830,000,000kWh",
          "Consumption of Switzerland 58,010,000,000kWh",
          "Consumption of Greece 57,730,000,000kWh",
          "Consumption of Iraq 53,410,000,000kWh",
          "Consumption of Romania 50,730,000,000kWh",
          "Consumption of Kuwait 50,000,000,000kWh",
          "Consumption of Colombia 49,380,000,000kWh",
          "Consumption of Singapore 47,180,000,000kWh",
          "Consumption of Portugal 46,250,000,000kWh",
          "Consumption of Uzbekistan 45,210,000,000kWh",
          "Consumption of Hong 44,210,000,000kWh",
          "Consumption of Algeria 42,870,000,000kWh",
          "Consumption of Bangladesh 41,520,000,000kWh",
          "Consumption of New 40,300,000,000kWh",
          "Consumption of Bulgaria 37,990,000,000kWh",
          "Consumption of Belarus 37,880,000,000kWh",
          "Consumption of Peru 35,690,000,000kWh",
          "Consumption of Denmark 31,960,000,000kWh",
          "Consumption of Qatar 30,530,000,000kWh",
          "Consumption of Slovakia 28,360,000,000kWh",
          "Consumption of Libya 27,540,000,000kWh",
          "Consumption of Serbia 26,910,000,000kWh",
          "Consumption of Morocco 26,700,000,000kWh",
          "Consumption of Syria 25,700,000,000kWh",
          "Consumption of Nigeria 24,780,000,000kWh",
          "Consumption of Ireland 24,240,000,000kWh",
          "Consumption of Hungary 21,550,000,000kWh",
          "Consumption of Oman 20,360,000,000kWh",
          "Consumption of Ecuador 19,020,000,000kWh",
          "Consumption of Puerto 18,620,000,000kWh",
          "Consumption of Azerbaijan 17,790,000,000kWh",
          "Consumption of Croatia 16,970,000,000kWh",
          "Consumption of Iceland 16,940,000,000kWh",
          "Consumption of Cuba 16,200,000,000kWh",
          "Consumption of Korea, 16,000,000,000kWh",
          "Consumption of Dominican 15,140,000,000kWh",
          "Consumption of Jordan 14,560,000,000kWh",
          "Consumption of Tajikistan 14,420,000,000kWh",
          "Consumption of Tunisia 13,310,000,000kWh",
          "Consumption of Slovenia 13,020,000,000kWh",
          "Consumption of Lebanon 12,940,000,000kWh",
          "Consumption of Bosnia 12,560,000,000kWh",
          "Consumption of Turkmenistan 11,750,000,000kWh",
          "Consumption of Bahrain 11,690,000,000kWh",
          "Consumption of Mozambique 11,280,000,000kWh",
          "Consumption of Ghana 10,580,000,000kWh",
          "Consumption of Sri 10,170,000,000kWh",
          "Consumption of Kyrgyzstan 9,943,000,000kWh",
          "Consumption of Lithuania 9,664,000,000kWh",
          "Consumption of Uruguay 9,559,000,000kWh",
          "Consumption of Costa 8,987,000,000kWh",
          "Consumption of Guatemala 8,915,000,000kWh",
          "Consumption of Georgia 8,468,000,000kWh",
          "Consumption of Trinidad 8,365,000,000kWh",
          "Consumption of Zambia 8,327,000,000kWh",
          "Consumption of Paraguay 8,125,000,000kWh",
          "Consumption of Albania 7,793,000,000kWh",
          "Consumption of Burma 7,765,000,000kWh",
          "Consumption of Estonia 7,417,000,000kWh",
          "Consumption of Congo, 7,292,000,000kWh",
          "Consumption of Panama 7,144,000,000kWh",
          "Consumption of Latvia 7,141,000,000kWh",
          "Consumption of Macedonia 6,960,000,000kWh",
          "Consumption of Zimbabwe 6,831,000,000kWh",
          "Consumption of Kenya 6,627,000,000kWh",
          "Consumption of Bolivia 6,456,000,000kWh",
          "Consumption of Luxembourg 6,108,000,000kWh",
          "Consumption of Sudan 5,665,000,000kWh",
          "Consumption of El 5,665,000,000kWh",
          "Consumption of Cameroon 5,535,000,000kWh",
          "Consumption of West 5,312,000,000kWh",
          "Consumption of Ethiopia 5,227,000,000kWh",
          "Consumption of Armenia 5,043,000,000kWh",
          "Consumption of Honduras 5,036,000,000kWh",
          "Consumption of Angola 4,842,000,000kWh",
          "Consumption of Cote 4,731,000,000kWh",
          "Consumption of Tanzania 4,545,000,000kWh",
          "Consumption of Nicaragua 4,412,000,000kWh",
          "Consumption of Moldova 4,305,000,000kWh",
          "Consumption of Cyprus 4,296,000,000kWh",
          "Consumption of Macau 4,291,000,000kWh",
          "Consumption of Namibia 4,238,000,000kWh",
          "Consumption of Mongolia 4,204,000,000kWh",
          "Consumption of Afghanistan 3,893,000,000kWh",
          "Consumption of Yemen 3,838,000,000kWh",
          "Consumption of Brunei 3,766,000,000kWh",
          "Consumption of Cambodia 3,553,000,000kWh",
          "Consumption of Montenegro 3,465,000,000kWh",
          "Consumption of Nepal 3,239,000,000kWh",
          "Consumption of Botswana 3,213,000,000kWh",
          "Consumption of Papua 3,116,000,000kWh",
          "Consumption of Jamaica 3,008,000,000kWh",
          "Consumption of Kosovo 2,887,000,000kWh",
          "Consumption of Laos 2,874,000,000kWh",
          "Consumption of Uganda 2,821,000,000kWh",
          "Consumption of New 2,716,000,000kWh",
          "Consumption of Mauritius 2,658,000,000kWh",
          "Consumption of Senegal 2,586,000,000kWh",
          "Consumption of Bhutan 2,085,000,000kWh",
          "Consumption of Malawi 2,027,000,000kWh",
          "Consumption of Madagascar 1,883,000,000kWh",
          "Consumption of Bahamas, 1,716,000,000kWh",
          "Consumption of Gabon 1,680,000,000kWh",
          "Consumption of Suriname 1,572,000,000kWh",
          "Consumption of Guam 1,566,000,000kWh",
          "Consumption of Liechtenstein 1,360,000,000kWh",
          "Consumption of Swaziland 1,295,000,000kWh",
          "Consumption of Burkina 985,500,000kWh",
          "Consumption of Togo 976,000,000kWh",
          "Consumption of Curacao 968,000,000kWh",
          "Consumption of Mauritania 962,600,000kWh",
          "Consumption of Barbados 938,000,000kWh",
          "Consumption of Niger 930,200,000kWh",
          "Consumption of Aruba 920,700,000kWh",
          "Consumption of Benin 911,000,000kWh",
          "Consumption of Guinea 903,000,000kWh",
          "Consumption of Mali 882,600,000kWh",
          "Consumption of Fiji 777,600,000kWh",
          "Consumption of Congo, 740,000,000kWh",
          "Consumption of Virgin 723,500,000kWh",
          "Consumption of Lesotho 707,000,000kWh",
          "Consumption of South 694,100,000kWh",
          "Consumption of Bermuda 664,200,000kWh",
          "Consumption of French 652,900,000kWh",
          "Consumption of Jersey 630,100,000kWh",
          "Consumption of Belize 605,000,000kWh",
          "Consumption of Andorra 562,400,000kWh",
          "Consumption of Guyana 558,000,000kWh",
          "Consumption of Cayman 545,900,000kWh",
          "Consumption of Haiti 452,000,000kWh",
          "Consumption of Rwanda 365,500,000kWh",
          "Consumption of Saint 336,400,000kWh",
          "Consumption of Djibouti 311,600,000kWh",
          "Consumption of Seychelles 293,900,000kWh",
          "Consumption of Somalia 293,000,000kWh",
          "Consumption of Antigua 293,000,000kWh",
          "Consumption of Greenland 292,000,000kWh",
          "Consumption of Cabo 285,500,000kWh",
          "Consumption of Eritrea 284,000,000kWh",
          "Consumption of Burundi 282,900,000kWh",
          "Consumption of Liberia 276,900,000kWh",
          "Consumption of Maldives 267,100,000kWh",
          "Consumption of Faroe 261,300,000kWh",
          "Consumption of Gambia, 218,600,000kWh",
          "Consumption of Chad 190,700,000kWh",
          "Consumption of Micronesia, 178,600,000kWh",
          "Consumption of Grenada 178,000,000kWh",
          "Consumption of Central 168,300,000kWh",
          "Consumption of Turks 167,400,000kWh",
          "Consumption of Gibraltar 160,000,000kWh",
          "Consumption of American 146,000,000kWh",
          "Consumption of Sierra 134,900,000kWh",
          "Consumption of Saint 130,200,000kWh",
          "Consumption of Saint 127,400,000kWh",
          "Consumption of Timor-Leste 125,300,000kWh",
          "Consumption of Equatorial 93,000,000kWh",
          "Consumption of Samoa 90,400,000kWh",
          "Consumption of Dominica 89,750,000kWh",
          "Consumption of Western 83,700,000kWh",
          "Consumption of Solomon 79,050,000kWh",
          "Consumption of Sao 60,450,000kWh",
          "Consumption of British 51,150,000kWh",
          "Consumption of Vanuatu 49,290,000kWh",
          "Consumption of Guinea-Bissau 46,500,000kWh",
          "Consumption of Tonga 44,640,000kWh",
          "Consumption of Saint 39,990,000kWh",
          "Consumption of Comoros 39,990,000kWh",
          "Consumption of Cook 28,950,000kWh",
          "Consumption of Kiribati 24,180,000kWh",
          "Consumption of Montserrat 23,250,000kWh",
          "Consumption of Nauru 23,250,000kWh",
          "Consumption of Falkland 11,160,000kWh",
          "Consumption of Saint 7,440,000kWh",
          "Consumption of Niue 2,790,000kWh",
          "Consumption of Gaza 202,000kWh",
          "Consumption of Malta 174,700kWh",
          "Consumption of Northern 48,300kWh"
         ],
         "type": "choropleth",
         "z": [
          5523000000000,
          3832000000000,
          2771000000000,
          1065000000000,
          921000000000,
          864700000000,
          540100000000,
          511000000000,
          483500000000,
          482400000000,
          451100000000,
          319100000000,
          303100000000,
          249500000000,
          243100000000,
          234000000000,
          231600000000,
          222600000000,
          211600000000,
          197000000000,
          195300000000,
          167500000000,
          159800000000,
          155900000000,
          139000000000,
          135600000000,
          130500000000,
          126400000000,
          118500000000,
          117100000000,
          116800000000,
          108300000000,
          97690000000,
          93280000000,
          82040000000,
          81890000000,
          80290000000,
          78890000000,
          75270000000,
          69750000000,
          63390000000,
          60550000000,
          59830000000,
          58010000000,
          57730000000,
          53410000000,
          50730000000,
          50000000000,
          49380000000,
          47180000000,
          46250000000,
          45210000000,
          44210000000,
          42870000000,
          41520000000,
          40300000000,
          37990000000,
          37880000000,
          35690000000,
          31960000000,
          30530000000,
          28360000000,
          27540000000,
          26910000000,
          26700000000,
          25700000000,
          24780000000,
          24240000000,
          21550000000,
          20360000000,
          19020000000,
          18620000000,
          17790000000,
          16970000000,
          16940000000,
          16200000000,
          16000000000,
          15140000000,
          14560000000,
          14420000000,
          13310000000,
          13020000000,
          12940000000,
          12560000000,
          11750000000,
          11690000000,
          11280000000,
          10580000000,
          10170000000,
          9943000000,
          9664000000,
          9559000000,
          8987000000,
          8915000000,
          8468000000,
          8365000000,
          8327000000,
          8125000000,
          7793000000,
          7765000000,
          7417000000,
          7292000000,
          7144000000,
          7141000000,
          6960000000,
          6831000000,
          6627000000,
          6456000000,
          6108000000,
          5665000000,
          5665000000,
          5535000000,
          5312000000,
          5227000000,
          5043000000,
          5036000000,
          4842000000,
          4731000000,
          4545000000,
          4412000000,
          4305000000,
          4296000000,
          4291000000,
          4238000000,
          4204000000,
          3893000000,
          3838000000,
          3766000000,
          3553000000,
          3465000000,
          3239000000,
          3213000000,
          3116000000,
          3008000000,
          2887000000,
          2874000000,
          2821000000,
          2716000000,
          2658000000,
          2586000000,
          2085000000,
          2027000000,
          1883000000,
          1716000000,
          1680000000,
          1572000000,
          1566000000,
          1360000000,
          1295000000,
          985500000,
          976000000,
          968000000,
          962600000,
          938000000,
          930200000,
          920700000,
          911000000,
          903000000,
          882600000,
          777600000,
          740000000,
          723500000,
          707000000,
          694100000,
          664200000,
          652900000,
          630100000,
          605000000,
          562400000,
          558000000,
          545900000,
          452000000,
          365500000,
          336400000,
          311600000,
          293900000,
          293000000,
          293000000,
          292000000,
          285500000,
          284000000,
          282900000,
          276900000,
          267100000,
          261300000,
          218600000,
          190700000,
          178600000,
          178000000,
          168300000,
          167400000,
          160000000,
          146000000,
          134900000,
          130200000,
          127400000,
          125300000,
          93000000,
          90400000,
          89750000,
          83700000,
          79050000,
          60450000,
          51150000,
          49290000,
          46500000,
          44640000,
          39990000,
          39990000,
          28950000,
          24180000,
          23250000,
          23250000,
          11160000,
          7440000,
          2790000,
          202000,
          174700,
          48300
         ]
        }
       ],
       "layout": {
        "geo": {
         "scope": "world"
        },
        "template": {
         "data": {
          "bar": [
           {
            "error_x": {
             "color": "#2a3f5f"
            },
            "error_y": {
             "color": "#2a3f5f"
            },
            "marker": {
             "line": {
              "color": "#E5ECF6",
              "width": 0.5
             }
            },
            "type": "bar"
           }
          ],
          "barpolar": [
           {
            "marker": {
             "line": {
              "color": "#E5ECF6",
              "width": 0.5
             }
            },
            "type": "barpolar"
           }
          ],
          "carpet": [
           {
            "aaxis": {
             "endlinecolor": "#2a3f5f",
             "gridcolor": "white",
             "linecolor": "white",
             "minorgridcolor": "white",
             "startlinecolor": "#2a3f5f"
            },
            "baxis": {
             "endlinecolor": "#2a3f5f",
             "gridcolor": "white",
             "linecolor": "white",
             "minorgridcolor": "white",
             "startlinecolor": "#2a3f5f"
            },
            "type": "carpet"
           }
          ],
          "choropleth": [
           {
            "colorbar": {
             "outlinewidth": 0,
             "ticks": ""
            },
            "type": "choropleth"
           }
          ],
          "contour": [
           {
            "colorbar": {
             "outlinewidth": 0,
             "ticks": ""
            },
            "colorscale": [
             [
              0,
              "#0d0887"
             ],
             [
              0.1111111111111111,
              "#46039f"
             ],
             [
              0.2222222222222222,
              "#7201a8"
             ],
             [
              0.3333333333333333,
              "#9c179e"
             ],
             [
              0.4444444444444444,
              "#bd3786"
             ],
             [
              0.5555555555555556,
              "#d8576b"
             ],
             [
              0.6666666666666666,
              "#ed7953"
             ],
             [
              0.7777777777777778,
              "#fb9f3a"
             ],
             [
              0.8888888888888888,
              "#fdca26"
             ],
             [
              1,
              "#f0f921"
             ]
            ],
            "type": "contour"
           }
          ],
          "contourcarpet": [
           {
            "colorbar": {
             "outlinewidth": 0,
             "ticks": ""
            },
            "type": "contourcarpet"
           }
          ],
          "heatmap": [
           {
            "colorbar": {
             "outlinewidth": 0,
             "ticks": ""
            },
            "colorscale": [
             [
              0,
              "#0d0887"
             ],
             [
              0.1111111111111111,
              "#46039f"
             ],
             [
              0.2222222222222222,
              "#7201a8"
             ],
             [
              0.3333333333333333,
              "#9c179e"
             ],
             [
              0.4444444444444444,
              "#bd3786"
             ],
             [
              0.5555555555555556,
              "#d8576b"
             ],
             [
              0.6666666666666666,
              "#ed7953"
             ],
             [
              0.7777777777777778,
              "#fb9f3a"
             ],
             [
              0.8888888888888888,
              "#fdca26"
             ],
             [
              1,
              "#f0f921"
             ]
            ],
            "type": "heatmap"
           }
          ],
          "heatmapgl": [
           {
            "colorbar": {
             "outlinewidth": 0,
             "ticks": ""
            },
            "colorscale": [
             [
              0,
              "#0d0887"
             ],
             [
              0.1111111111111111,
              "#46039f"
             ],
             [
              0.2222222222222222,
              "#7201a8"
             ],
             [
              0.3333333333333333,
              "#9c179e"
             ],
             [
              0.4444444444444444,
              "#bd3786"
             ],
             [
              0.5555555555555556,
              "#d8576b"
             ],
             [
              0.6666666666666666,
              "#ed7953"
             ],
             [
              0.7777777777777778,
              "#fb9f3a"
             ],
             [
              0.8888888888888888,
              "#fdca26"
             ],
             [
              1,
              "#f0f921"
             ]
            ],
            "type": "heatmapgl"
           }
          ],
          "histogram": [
           {
            "marker": {
             "colorbar": {
              "outlinewidth": 0,
              "ticks": ""
             }
            },
            "type": "histogram"
           }
          ],
          "histogram2d": [
           {
            "colorbar": {
             "outlinewidth": 0,
             "ticks": ""
            },
            "colorscale": [
             [
              0,
              "#0d0887"
             ],
             [
              0.1111111111111111,
              "#46039f"
             ],
             [
              0.2222222222222222,
              "#7201a8"
             ],
             [
              0.3333333333333333,
              "#9c179e"
             ],
             [
              0.4444444444444444,
              "#bd3786"
             ],
             [
              0.5555555555555556,
              "#d8576b"
             ],
             [
              0.6666666666666666,
              "#ed7953"
             ],
             [
              0.7777777777777778,
              "#fb9f3a"
             ],
             [
              0.8888888888888888,
              "#fdca26"
             ],
             [
              1,
              "#f0f921"
             ]
            ],
            "type": "histogram2d"
           }
          ],
          "histogram2dcontour": [
           {
            "colorbar": {
             "outlinewidth": 0,
             "ticks": ""
            },
            "colorscale": [
             [
              0,
              "#0d0887"
             ],
             [
              0.1111111111111111,
              "#46039f"
             ],
             [
              0.2222222222222222,
              "#7201a8"
             ],
             [
              0.3333333333333333,
              "#9c179e"
             ],
             [
              0.4444444444444444,
              "#bd3786"
             ],
             [
              0.5555555555555556,
              "#d8576b"
             ],
             [
              0.6666666666666666,
              "#ed7953"
             ],
             [
              0.7777777777777778,
              "#fb9f3a"
             ],
             [
              0.8888888888888888,
              "#fdca26"
             ],
             [
              1,
              "#f0f921"
             ]
            ],
            "type": "histogram2dcontour"
           }
          ],
          "mesh3d": [
           {
            "colorbar": {
             "outlinewidth": 0,
             "ticks": ""
            },
            "type": "mesh3d"
           }
          ],
          "parcoords": [
           {
            "line": {
             "colorbar": {
              "outlinewidth": 0,
              "ticks": ""
             }
            },
            "type": "parcoords"
           }
          ],
          "pie": [
           {
            "automargin": true,
            "type": "pie"
           }
          ],
          "scatter": [
           {
            "marker": {
             "colorbar": {
              "outlinewidth": 0,
              "ticks": ""
             }
            },
            "type": "scatter"
           }
          ],
          "scatter3d": [
           {
            "line": {
             "colorbar": {
              "outlinewidth": 0,
              "ticks": ""
             }
            },
            "marker": {
             "colorbar": {
              "outlinewidth": 0,
              "ticks": ""
             }
            },
            "type": "scatter3d"
           }
          ],
          "scattercarpet": [
           {
            "marker": {
             "colorbar": {
              "outlinewidth": 0,
              "ticks": ""
             }
            },
            "type": "scattercarpet"
           }
          ],
          "scattergeo": [
           {
            "marker": {
             "colorbar": {
              "outlinewidth": 0,
              "ticks": ""
             }
            },
            "type": "scattergeo"
           }
          ],
          "scattergl": [
           {
            "marker": {
             "colorbar": {
              "outlinewidth": 0,
              "ticks": ""
             }
            },
            "type": "scattergl"
           }
          ],
          "scattermapbox": [
           {
            "marker": {
             "colorbar": {
              "outlinewidth": 0,
              "ticks": ""
             }
            },
            "type": "scattermapbox"
           }
          ],
          "scatterpolar": [
           {
            "marker": {
             "colorbar": {
              "outlinewidth": 0,
              "ticks": ""
             }
            },
            "type": "scatterpolar"
           }
          ],
          "scatterpolargl": [
           {
            "marker": {
             "colorbar": {
              "outlinewidth": 0,
              "ticks": ""
             }
            },
            "type": "scatterpolargl"
           }
          ],
          "scatterternary": [
           {
            "marker": {
             "colorbar": {
              "outlinewidth": 0,
              "ticks": ""
             }
            },
            "type": "scatterternary"
           }
          ],
          "surface": [
           {
            "colorbar": {
             "outlinewidth": 0,
             "ticks": ""
            },
            "colorscale": [
             [
              0,
              "#0d0887"
             ],
             [
              0.1111111111111111,
              "#46039f"
             ],
             [
              0.2222222222222222,
              "#7201a8"
             ],
             [
              0.3333333333333333,
              "#9c179e"
             ],
             [
              0.4444444444444444,
              "#bd3786"
             ],
             [
              0.5555555555555556,
              "#d8576b"
             ],
             [
              0.6666666666666666,
              "#ed7953"
             ],
             [
              0.7777777777777778,
              "#fb9f3a"
             ],
             [
              0.8888888888888888,
              "#fdca26"
             ],
             [
              1,
              "#f0f921"
             ]
            ],
            "type": "surface"
           }
          ],
          "table": [
           {
            "cells": {
             "fill": {
              "color": "#EBF0F8"
             },
             "line": {
              "color": "white"
             }
            },
            "header": {
             "fill": {
              "color": "#C8D4E3"
             },
             "line": {
              "color": "white"
             }
            },
            "type": "table"
           }
          ]
         },
         "layout": {
          "annotationdefaults": {
           "arrowcolor": "#2a3f5f",
           "arrowhead": 0,
           "arrowwidth": 1
          },
          "coloraxis": {
           "colorbar": {
            "outlinewidth": 0,
            "ticks": ""
           }
          },
          "colorscale": {
           "diverging": [
            [
             0,
             "#8e0152"
            ],
            [
             0.1,
             "#c51b7d"
            ],
            [
             0.2,
             "#de77ae"
            ],
            [
             0.3,
             "#f1b6da"
            ],
            [
             0.4,
             "#fde0ef"
            ],
            [
             0.5,
             "#f7f7f7"
            ],
            [
             0.6,
             "#e6f5d0"
            ],
            [
             0.7,
             "#b8e186"
            ],
            [
             0.8,
             "#7fbc41"
            ],
            [
             0.9,
             "#4d9221"
            ],
            [
             1,
             "#276419"
            ]
           ],
           "sequential": [
            [
             0,
             "#0d0887"
            ],
            [
             0.1111111111111111,
             "#46039f"
            ],
            [
             0.2222222222222222,
             "#7201a8"
            ],
            [
             0.3333333333333333,
             "#9c179e"
            ],
            [
             0.4444444444444444,
             "#bd3786"
            ],
            [
             0.5555555555555556,
             "#d8576b"
            ],
            [
             0.6666666666666666,
             "#ed7953"
            ],
            [
             0.7777777777777778,
             "#fb9f3a"
            ],
            [
             0.8888888888888888,
             "#fdca26"
            ],
            [
             1,
             "#f0f921"
            ]
           ],
           "sequentialminus": [
            [
             0,
             "#0d0887"
            ],
            [
             0.1111111111111111,
             "#46039f"
            ],
            [
             0.2222222222222222,
             "#7201a8"
            ],
            [
             0.3333333333333333,
             "#9c179e"
            ],
            [
             0.4444444444444444,
             "#bd3786"
            ],
            [
             0.5555555555555556,
             "#d8576b"
            ],
            [
             0.6666666666666666,
             "#ed7953"
            ],
            [
             0.7777777777777778,
             "#fb9f3a"
            ],
            [
             0.8888888888888888,
             "#fdca26"
            ],
            [
             1,
             "#f0f921"
            ]
           ]
          },
          "colorway": [
           "#636efa",
           "#EF553B",
           "#00cc96",
           "#ab63fa",
           "#FFA15A",
           "#19d3f3",
           "#FF6692",
           "#B6E880",
           "#FF97FF",
           "#FECB52"
          ],
          "font": {
           "color": "#2a3f5f"
          },
          "geo": {
           "bgcolor": "white",
           "lakecolor": "white",
           "landcolor": "#E5ECF6",
           "showlakes": true,
           "showland": true,
           "subunitcolor": "white"
          },
          "hoverlabel": {
           "align": "left"
          },
          "hovermode": "closest",
          "mapbox": {
           "style": "light"
          },
          "paper_bgcolor": "white",
          "plot_bgcolor": "#E5ECF6",
          "polar": {
           "angularaxis": {
            "gridcolor": "white",
            "linecolor": "white",
            "ticks": ""
           },
           "bgcolor": "#E5ECF6",
           "radialaxis": {
            "gridcolor": "white",
            "linecolor": "white",
            "ticks": ""
           }
          },
          "scene": {
           "xaxis": {
            "backgroundcolor": "#E5ECF6",
            "gridcolor": "white",
            "gridwidth": 2,
            "linecolor": "white",
            "showbackground": true,
            "ticks": "",
            "zerolinecolor": "white"
           },
           "yaxis": {
            "backgroundcolor": "#E5ECF6",
            "gridcolor": "white",
            "gridwidth": 2,
            "linecolor": "white",
            "showbackground": true,
            "ticks": "",
            "zerolinecolor": "white"
           },
           "zaxis": {
            "backgroundcolor": "#E5ECF6",
            "gridcolor": "white",
            "gridwidth": 2,
            "linecolor": "white",
            "showbackground": true,
            "ticks": "",
            "zerolinecolor": "white"
           }
          },
          "shapedefaults": {
           "line": {
            "color": "#2a3f5f"
           }
          },
          "ternary": {
           "aaxis": {
            "gridcolor": "white",
            "linecolor": "white",
            "ticks": ""
           },
           "baxis": {
            "gridcolor": "white",
            "linecolor": "white",
            "ticks": ""
           },
           "bgcolor": "#E5ECF6",
           "caxis": {
            "gridcolor": "white",
            "linecolor": "white",
            "ticks": ""
           }
          },
          "title": {
           "x": 0.05
          },
          "xaxis": {
           "automargin": true,
           "gridcolor": "white",
           "linecolor": "white",
           "ticks": "",
           "title": {
            "standoff": 15
           },
           "zerolinecolor": "white",
           "zerolinewidth": 2
          },
          "yaxis": {
           "automargin": true,
           "gridcolor": "white",
           "linecolor": "white",
           "ticks": "",
           "title": {
            "standoff": 15
           },
           "zerolinecolor": "white",
           "zerolinewidth": 2
          }
         }
        },
        "title": {
         "text": "World Power Consumption"
        }
       }
      },
      "text/html": [
       "<div>\n",
       "        \n",
       "        \n",
       "            <div id=\"1fdda780-8971-4852-9163-78e9670728b8\" class=\"plotly-graph-div\" style=\"height:525px; width:100%;\"></div>\n",
       "            <script type=\"text/javascript\">\n",
       "                require([\"plotly\"], function(Plotly) {\n",
       "                    window.PLOTLYENV=window.PLOTLYENV || {};\n",
       "                    \n",
       "                if (document.getElementById(\"1fdda780-8971-4852-9163-78e9670728b8\")) {\n",
       "                    Plotly.newPlot(\n",
       "                        '1fdda780-8971-4852-9163-78e9670728b8',\n",
       "                        [{\"colorbar\": {\"title\": {\"text\": \"kWh\"}}, \"locationmode\": \"country names\", \"locations\": [\"China\", \"United States\", \"European\", \"Russia\", \"Japan\", \"India\", \"Germany\", \"Canada\", \"Brazil\", \"Korea,\", \"France\", \"United Kingdom\", \"Italy\", \"Taiwan\", \"Spain\", \"Mexico\", \"Saudi\", \"Australia\", \"South\", \"Turkey\", \"Iran\", \"Indonesia\", \"Ukraine\", \"Thailand\", \"Poland\", \"Egypt\", \"Sweden\", \"Norway\", \"Malaysia\", \"Argentina\", \"Netherlands\", \"Vietnam\", \"Venezuela\", \"United Arab Emirates\", \"Finland\", \"Belgium\", \"Kazakhstan\", \"Pakistan\", \"Philippines\", \"Austria\", \"Chile\", \"Czechia\", \"Israel\", \"Switzerland\", \"Greece\", \"Iraq\", \"Romania\", \"Kuwait\", \"Colombia\", \"Singapore\", \"Portugal\", \"Uzbekistan\", \"Hong\", \"Algeria\", \"Bangladesh\", \"New\", \"Bulgaria\", \"Belarus\", \"Peru\", \"Denmark\", \"Qatar\", \"Slovakia\", \"Libya\", \"Serbia\", \"Morocco\", \"Syria\", \"Nigeria\", \"Ireland\", \"Hungary\", \"Oman\", \"Ecuador\", \"Puerto\", \"Azerbaijan\", \"Croatia\", \"Iceland\", \"Cuba\", \"Korea,\", \"Dominican\", \"Jordan\", \"Tajikistan\", \"Tunisia\", \"Slovenia\", \"Lebanon\", \"Bosnia\", \"Turkmenistan\", \"Bahrain\", \"Mozambique\", \"Ghana\", \"Sri\", \"Kyrgyzstan\", \"Lithuania\", \"Uruguay\", \"Costa\", \"Guatemala\", \"Georgia\", \"Trinidad\", \"Zambia\", \"Paraguay\", \"Albania\", \"Burma\", \"Estonia\", \"Congo,\", \"Panama\", \"Latvia\", \"Macedonia\", \"Zimbabwe\", \"Kenya\", \"Bolivia\", \"Luxembourg\", \"Sudan\", \"El\", \"Cameroon\", \"West\", \"Ethiopia\", \"Armenia\", \"Honduras\", \"Angola\", \"Cote\", \"Tanzania\", \"Nicaragua\", \"Moldova\", \"Cyprus\", \"Macau\", \"Namibia\", \"Mongolia\", \"Afghanistan\", \"Yemen\", \"Brunei\", \"Cambodia\", \"Montenegro\", \"Nepal\", \"Botswana\", \"Papua\", \"Jamaica\", \"Kosovo\", \"Laos\", \"Uganda\", \"New\", \"Mauritius\", \"Senegal\", \"Bhutan\", \"Malawi\", \"Madagascar\", \"Bahamas,\", \"Gabon\", \"Suriname\", \"Guam\", \"Liechtenstein\", \"Swaziland\", \"Burkina\", \"Togo\", \"Curacao\", \"Mauritania\", \"Barbados\", \"Niger\", \"Aruba\", \"Benin\", \"Guinea\", \"Mali\", \"Fiji\", \"Congo,\", \"Virgin\", \"Lesotho\", \"South\", \"Bermuda\", \"French\", \"Jersey\", \"Belize\", \"Andorra\", \"Guyana\", \"Cayman\", \"Haiti\", \"Rwanda\", \"Saint\", \"Djibouti\", \"Seychelles\", \"Somalia\", \"Antigua\", \"Greenland\", \"Cabo\", \"Eritrea\", \"Burundi\", \"Liberia\", \"Maldives\", \"Faroe\", \"Gambia,\", \"Chad\", \"Micronesia,\", \"Grenada\", \"Central\", \"Turks\", \"Gibraltar\", \"American\", \"Sierra\", \"Saint\", \"Saint\", \"Timor-Leste\", \"Equatorial\", \"Samoa\", \"Dominica\", \"Western\", \"Solomon\", \"Sao\", \"British\", \"Vanuatu\", \"Guinea-Bissau\", \"Tonga\", \"Saint\", \"Comoros\", \"Cook\", \"Kiribati\", \"Montserrat\", \"Nauru\", \"Falkland\", \"Saint\", \"Niue\", \"Gaza\", \"Malta\", \"Northern\"], \"text\": [\"Consumption of China 5,523,000,000,000kWh\", \"Consumption of United 3,832,000,000,000kWh\", \"Consumption of European 2,771,000,000,000kWh\", \"Consumption of Russia 1,065,000,000,000kWh\", \"Consumption of Japan 921,000,000,000kWh\", \"Consumption of India 864,700,000,000kWh\", \"Consumption of Germany 540,100,000,000kWh\", \"Consumption of Canada 511,000,000,000kWh\", \"Consumption of Brazil 483,500,000,000kWh\", \"Consumption of Korea, 482,400,000,000kWh\", \"Consumption of France 451,100,000,000kWh\", \"Consumption of United 319,100,000,000kWh\", \"Consumption of Italy 303,100,000,000kWh\", \"Consumption of Taiwan 249,500,000,000kWh\", \"Consumption of Spain 243,100,000,000kWh\", \"Consumption of Mexico 234,000,000,000kWh\", \"Consumption of Saudi 231,600,000,000kWh\", \"Consumption of Australia 222,600,000,000kWh\", \"Consumption of South 211,600,000,000kWh\", \"Consumption of Turkey 197,000,000,000kWh\", \"Consumption of Iran 195,300,000,000kWh\", \"Consumption of Indonesia 167,500,000,000kWh\", \"Consumption of Ukraine 159,800,000,000kWh\", \"Consumption of Thailand 155,900,000,000kWh\", \"Consumption of Poland 139,000,000,000kWh\", \"Consumption of Egypt 135,600,000,000kWh\", \"Consumption of Sweden 130,500,000,000kWh\", \"Consumption of Norway 126,400,000,000kWh\", \"Consumption of Malaysia 118,500,000,000kWh\", \"Consumption of Argentina 117,100,000,000kWh\", \"Consumption of Netherlands 116,800,000,000kWh\", \"Consumption of Vietnam 108,300,000,000kWh\", \"Consumption of Venezuela 97,690,000,000kWh\", \"Consumption of United 93,280,000,000kWh\", \"Consumption of Finland 82,040,000,000kWh\", \"Consumption of Belgium 81,890,000,000kWh\", \"Consumption of Kazakhstan 80,290,000,000kWh\", \"Consumption of Pakistan 78,890,000,000kWh\", \"Consumption of Philippines 75,270,000,000kWh\", \"Consumption of Austria 69,750,000,000kWh\", \"Consumption of Chile 63,390,000,000kWh\", \"Consumption of Czechia 60,550,000,000kWh\", \"Consumption of Israel 59,830,000,000kWh\", \"Consumption of Switzerland 58,010,000,000kWh\", \"Consumption of Greece 57,730,000,000kWh\", \"Consumption of Iraq 53,410,000,000kWh\", \"Consumption of Romania 50,730,000,000kWh\", \"Consumption of Kuwait 50,000,000,000kWh\", \"Consumption of Colombia 49,380,000,000kWh\", \"Consumption of Singapore 47,180,000,000kWh\", \"Consumption of Portugal 46,250,000,000kWh\", \"Consumption of Uzbekistan 45,210,000,000kWh\", \"Consumption of Hong 44,210,000,000kWh\", \"Consumption of Algeria 42,870,000,000kWh\", \"Consumption of Bangladesh 41,520,000,000kWh\", \"Consumption of New 40,300,000,000kWh\", \"Consumption of Bulgaria 37,990,000,000kWh\", \"Consumption of Belarus 37,880,000,000kWh\", \"Consumption of Peru 35,690,000,000kWh\", \"Consumption of Denmark 31,960,000,000kWh\", \"Consumption of Qatar 30,530,000,000kWh\", \"Consumption of Slovakia 28,360,000,000kWh\", \"Consumption of Libya 27,540,000,000kWh\", \"Consumption of Serbia 26,910,000,000kWh\", \"Consumption of Morocco 26,700,000,000kWh\", \"Consumption of Syria 25,700,000,000kWh\", \"Consumption of Nigeria 24,780,000,000kWh\", \"Consumption of Ireland 24,240,000,000kWh\", \"Consumption of Hungary 21,550,000,000kWh\", \"Consumption of Oman 20,360,000,000kWh\", \"Consumption of Ecuador 19,020,000,000kWh\", \"Consumption of Puerto 18,620,000,000kWh\", \"Consumption of Azerbaijan 17,790,000,000kWh\", \"Consumption of Croatia 16,970,000,000kWh\", \"Consumption of Iceland 16,940,000,000kWh\", \"Consumption of Cuba 16,200,000,000kWh\", \"Consumption of Korea, 16,000,000,000kWh\", \"Consumption of Dominican 15,140,000,000kWh\", \"Consumption of Jordan 14,560,000,000kWh\", \"Consumption of Tajikistan 14,420,000,000kWh\", \"Consumption of Tunisia 13,310,000,000kWh\", \"Consumption of Slovenia 13,020,000,000kWh\", \"Consumption of Lebanon 12,940,000,000kWh\", \"Consumption of Bosnia 12,560,000,000kWh\", \"Consumption of Turkmenistan 11,750,000,000kWh\", \"Consumption of Bahrain 11,690,000,000kWh\", \"Consumption of Mozambique 11,280,000,000kWh\", \"Consumption of Ghana 10,580,000,000kWh\", \"Consumption of Sri 10,170,000,000kWh\", \"Consumption of Kyrgyzstan 9,943,000,000kWh\", \"Consumption of Lithuania 9,664,000,000kWh\", \"Consumption of Uruguay 9,559,000,000kWh\", \"Consumption of Costa 8,987,000,000kWh\", \"Consumption of Guatemala 8,915,000,000kWh\", \"Consumption of Georgia 8,468,000,000kWh\", \"Consumption of Trinidad 8,365,000,000kWh\", \"Consumption of Zambia 8,327,000,000kWh\", \"Consumption of Paraguay 8,125,000,000kWh\", \"Consumption of Albania 7,793,000,000kWh\", \"Consumption of Burma 7,765,000,000kWh\", \"Consumption of Estonia 7,417,000,000kWh\", \"Consumption of Congo, 7,292,000,000kWh\", \"Consumption of Panama 7,144,000,000kWh\", \"Consumption of Latvia 7,141,000,000kWh\", \"Consumption of Macedonia 6,960,000,000kWh\", \"Consumption of Zimbabwe 6,831,000,000kWh\", \"Consumption of Kenya 6,627,000,000kWh\", \"Consumption of Bolivia 6,456,000,000kWh\", \"Consumption of Luxembourg 6,108,000,000kWh\", \"Consumption of Sudan 5,665,000,000kWh\", \"Consumption of El 5,665,000,000kWh\", \"Consumption of Cameroon 5,535,000,000kWh\", \"Consumption of West 5,312,000,000kWh\", \"Consumption of Ethiopia 5,227,000,000kWh\", \"Consumption of Armenia 5,043,000,000kWh\", \"Consumption of Honduras 5,036,000,000kWh\", \"Consumption of Angola 4,842,000,000kWh\", \"Consumption of Cote 4,731,000,000kWh\", \"Consumption of Tanzania 4,545,000,000kWh\", \"Consumption of Nicaragua 4,412,000,000kWh\", \"Consumption of Moldova 4,305,000,000kWh\", \"Consumption of Cyprus 4,296,000,000kWh\", \"Consumption of Macau 4,291,000,000kWh\", \"Consumption of Namibia 4,238,000,000kWh\", \"Consumption of Mongolia 4,204,000,000kWh\", \"Consumption of Afghanistan 3,893,000,000kWh\", \"Consumption of Yemen 3,838,000,000kWh\", \"Consumption of Brunei 3,766,000,000kWh\", \"Consumption of Cambodia 3,553,000,000kWh\", \"Consumption of Montenegro 3,465,000,000kWh\", \"Consumption of Nepal 3,239,000,000kWh\", \"Consumption of Botswana 3,213,000,000kWh\", \"Consumption of Papua 3,116,000,000kWh\", \"Consumption of Jamaica 3,008,000,000kWh\", \"Consumption of Kosovo 2,887,000,000kWh\", \"Consumption of Laos 2,874,000,000kWh\", \"Consumption of Uganda 2,821,000,000kWh\", \"Consumption of New 2,716,000,000kWh\", \"Consumption of Mauritius 2,658,000,000kWh\", \"Consumption of Senegal 2,586,000,000kWh\", \"Consumption of Bhutan 2,085,000,000kWh\", \"Consumption of Malawi 2,027,000,000kWh\", \"Consumption of Madagascar 1,883,000,000kWh\", \"Consumption of Bahamas, 1,716,000,000kWh\", \"Consumption of Gabon 1,680,000,000kWh\", \"Consumption of Suriname 1,572,000,000kWh\", \"Consumption of Guam 1,566,000,000kWh\", \"Consumption of Liechtenstein 1,360,000,000kWh\", \"Consumption of Swaziland 1,295,000,000kWh\", \"Consumption of Burkina 985,500,000kWh\", \"Consumption of Togo 976,000,000kWh\", \"Consumption of Curacao 968,000,000kWh\", \"Consumption of Mauritania 962,600,000kWh\", \"Consumption of Barbados 938,000,000kWh\", \"Consumption of Niger 930,200,000kWh\", \"Consumption of Aruba 920,700,000kWh\", \"Consumption of Benin 911,000,000kWh\", \"Consumption of Guinea 903,000,000kWh\", \"Consumption of Mali 882,600,000kWh\", \"Consumption of Fiji 777,600,000kWh\", \"Consumption of Congo, 740,000,000kWh\", \"Consumption of Virgin 723,500,000kWh\", \"Consumption of Lesotho 707,000,000kWh\", \"Consumption of South 694,100,000kWh\", \"Consumption of Bermuda 664,200,000kWh\", \"Consumption of French 652,900,000kWh\", \"Consumption of Jersey 630,100,000kWh\", \"Consumption of Belize 605,000,000kWh\", \"Consumption of Andorra 562,400,000kWh\", \"Consumption of Guyana 558,000,000kWh\", \"Consumption of Cayman 545,900,000kWh\", \"Consumption of Haiti 452,000,000kWh\", \"Consumption of Rwanda 365,500,000kWh\", \"Consumption of Saint 336,400,000kWh\", \"Consumption of Djibouti 311,600,000kWh\", \"Consumption of Seychelles 293,900,000kWh\", \"Consumption of Somalia 293,000,000kWh\", \"Consumption of Antigua 293,000,000kWh\", \"Consumption of Greenland 292,000,000kWh\", \"Consumption of Cabo 285,500,000kWh\", \"Consumption of Eritrea 284,000,000kWh\", \"Consumption of Burundi 282,900,000kWh\", \"Consumption of Liberia 276,900,000kWh\", \"Consumption of Maldives 267,100,000kWh\", \"Consumption of Faroe 261,300,000kWh\", \"Consumption of Gambia, 218,600,000kWh\", \"Consumption of Chad 190,700,000kWh\", \"Consumption of Micronesia, 178,600,000kWh\", \"Consumption of Grenada 178,000,000kWh\", \"Consumption of Central 168,300,000kWh\", \"Consumption of Turks 167,400,000kWh\", \"Consumption of Gibraltar 160,000,000kWh\", \"Consumption of American 146,000,000kWh\", \"Consumption of Sierra 134,900,000kWh\", \"Consumption of Saint 130,200,000kWh\", \"Consumption of Saint 127,400,000kWh\", \"Consumption of Timor-Leste 125,300,000kWh\", \"Consumption of Equatorial 93,000,000kWh\", \"Consumption of Samoa 90,400,000kWh\", \"Consumption of Dominica 89,750,000kWh\", \"Consumption of Western 83,700,000kWh\", \"Consumption of Solomon 79,050,000kWh\", \"Consumption of Sao 60,450,000kWh\", \"Consumption of British 51,150,000kWh\", \"Consumption of Vanuatu 49,290,000kWh\", \"Consumption of Guinea-Bissau 46,500,000kWh\", \"Consumption of Tonga 44,640,000kWh\", \"Consumption of Saint 39,990,000kWh\", \"Consumption of Comoros 39,990,000kWh\", \"Consumption of Cook 28,950,000kWh\", \"Consumption of Kiribati 24,180,000kWh\", \"Consumption of Montserrat 23,250,000kWh\", \"Consumption of Nauru 23,250,000kWh\", \"Consumption of Falkland 11,160,000kWh\", \"Consumption of Saint 7,440,000kWh\", \"Consumption of Niue 2,790,000kWh\", \"Consumption of Gaza 202,000kWh\", \"Consumption of Malta 174,700kWh\", \"Consumption of Northern 48,300kWh\"], \"type\": \"choropleth\", \"z\": [5523000000000.0, 3832000000000.0, 2771000000000.0, 1065000000000.0, 921000000000.0, 864700000000.0, 540100000000.0, 511000000000.0, 483500000000.0, 482400000000.0, 451100000000.0, 319100000000.0, 303100000000.0, 249500000000.0, 243100000000.0, 234000000000.0, 231600000000.0, 222600000000.0, 211600000000.0, 197000000000.0, 195300000000.0, 167500000000.0, 159800000000.0, 155900000000.0, 139000000000.0, 135600000000.0, 130500000000.0, 126400000000.0, 118500000000.0, 117100000000.0, 116800000000.0, 108300000000.0, 97690000000.0, 93280000000.0, 82040000000.0, 81890000000.0, 80290000000.0, 78890000000.0, 75270000000.0, 69750000000.0, 63390000000.0, 60550000000.0, 59830000000.0, 58010000000.0, 57730000000.0, 53410000000.0, 50730000000.0, 50000000000.0, 49380000000.0, 47180000000.0, 46250000000.0, 45210000000.0, 44210000000.0, 42870000000.0, 41520000000.0, 40300000000.0, 37990000000.0, 37880000000.0, 35690000000.0, 31960000000.0, 30530000000.0, 28360000000.0, 27540000000.0, 26910000000.0, 26700000000.0, 25700000000.0, 24780000000.0, 24240000000.0, 21550000000.0, 20360000000.0, 19020000000.0, 18620000000.0, 17790000000.0, 16970000000.0, 16940000000.0, 16200000000.0, 16000000000.0, 15140000000.0, 14560000000.0, 14420000000.0, 13310000000.0, 13020000000.0, 12940000000.0, 12560000000.0, 11750000000.0, 11690000000.0, 11280000000.0, 10580000000.0, 10170000000.0, 9943000000.0, 9664000000.0, 9559000000.0, 8987000000.0, 8915000000.0, 8468000000.0, 8365000000.0, 8327000000.0, 8125000000.0, 7793000000.0, 7765000000.0, 7417000000.0, 7292000000.0, 7144000000.0, 7141000000.0, 6960000000.0, 6831000000.0, 6627000000.0, 6456000000.0, 6108000000.0, 5665000000.0, 5665000000.0, 5535000000.0, 5312000000.0, 5227000000.0, 5043000000.0, 5036000000.0, 4842000000.0, 4731000000.0, 4545000000.0, 4412000000.0, 4305000000.0, 4296000000.0, 4291000000.0, 4238000000.0, 4204000000.0, 3893000000.0, 3838000000.0, 3766000000.0, 3553000000.0, 3465000000.0, 3239000000.0, 3213000000.0, 3116000000.0, 3008000000.0, 2887000000.0, 2874000000.0, 2821000000.0, 2716000000.0, 2658000000.0, 2586000000.0, 2085000000.0, 2027000000.0, 1883000000.0, 1716000000.0, 1680000000.0, 1572000000.0, 1566000000.0, 1360000000.0, 1295000000.0, 985500000.0, 976000000.0, 968000000.0, 962600000.0, 938000000.0, 930200000.0, 920700000.0, 911000000.0, 903000000.0, 882600000.0, 777600000.0, 740000000.0, 723500000.0, 707000000.0, 694100000.0, 664200000.0, 652900000.0, 630100000.0, 605000000.0, 562400000.0, 558000000.0, 545900000.0, 452000000.0, 365500000.0, 336400000.0, 311600000.0, 293900000.0, 293000000.0, 293000000.0, 292000000.0, 285500000.0, 284000000.0, 282900000.0, 276900000.0, 267100000.0, 261300000.0, 218600000.0, 190700000.0, 178600000.0, 178000000.0, 168300000.0, 167400000.0, 160000000.0, 146000000.0, 134900000.0, 130200000.0, 127400000.0, 125300000.0, 93000000.0, 90400000.0, 89750000.0, 83700000.0, 79050000.0, 60450000.0, 51150000.0, 49290000.0, 46500000.0, 44640000.0, 39990000.0, 39990000.0, 28950000.0, 24180000.0, 23250000.0, 23250000.0, 11160000.0, 7440000.0, 2790000.0, 202000.0, 174700.0, 48300.0]}],\n",
       "                        {\"geo\": {\"scope\": \"world\"}, \"template\": {\"data\": {\"bar\": [{\"error_x\": {\"color\": \"#2a3f5f\"}, \"error_y\": {\"color\": \"#2a3f5f\"}, \"marker\": {\"line\": {\"color\": \"#E5ECF6\", \"width\": 0.5}}, \"type\": \"bar\"}], \"barpolar\": [{\"marker\": {\"line\": {\"color\": \"#E5ECF6\", \"width\": 0.5}}, \"type\": \"barpolar\"}], \"carpet\": [{\"aaxis\": {\"endlinecolor\": \"#2a3f5f\", \"gridcolor\": \"white\", \"linecolor\": \"white\", \"minorgridcolor\": \"white\", \"startlinecolor\": \"#2a3f5f\"}, \"baxis\": {\"endlinecolor\": \"#2a3f5f\", \"gridcolor\": \"white\", \"linecolor\": \"white\", \"minorgridcolor\": \"white\", \"startlinecolor\": \"#2a3f5f\"}, \"type\": \"carpet\"}], \"choropleth\": [{\"colorbar\": {\"outlinewidth\": 0, \"ticks\": \"\"}, \"type\": \"choropleth\"}], \"contour\": [{\"colorbar\": {\"outlinewidth\": 0, \"ticks\": \"\"}, \"colorscale\": [[0.0, \"#0d0887\"], [0.1111111111111111, \"#46039f\"], [0.2222222222222222, \"#7201a8\"], [0.3333333333333333, \"#9c179e\"], [0.4444444444444444, \"#bd3786\"], [0.5555555555555556, \"#d8576b\"], [0.6666666666666666, \"#ed7953\"], [0.7777777777777778, \"#fb9f3a\"], [0.8888888888888888, \"#fdca26\"], [1.0, \"#f0f921\"]], \"type\": \"contour\"}], \"contourcarpet\": [{\"colorbar\": {\"outlinewidth\": 0, \"ticks\": \"\"}, \"type\": \"contourcarpet\"}], \"heatmap\": [{\"colorbar\": {\"outlinewidth\": 0, \"ticks\": \"\"}, \"colorscale\": [[0.0, \"#0d0887\"], [0.1111111111111111, \"#46039f\"], [0.2222222222222222, \"#7201a8\"], [0.3333333333333333, \"#9c179e\"], [0.4444444444444444, \"#bd3786\"], [0.5555555555555556, \"#d8576b\"], [0.6666666666666666, \"#ed7953\"], [0.7777777777777778, \"#fb9f3a\"], [0.8888888888888888, \"#fdca26\"], [1.0, \"#f0f921\"]], \"type\": \"heatmap\"}], \"heatmapgl\": [{\"colorbar\": {\"outlinewidth\": 0, \"ticks\": \"\"}, \"colorscale\": [[0.0, \"#0d0887\"], [0.1111111111111111, \"#46039f\"], [0.2222222222222222, \"#7201a8\"], [0.3333333333333333, \"#9c179e\"], [0.4444444444444444, \"#bd3786\"], [0.5555555555555556, \"#d8576b\"], [0.6666666666666666, \"#ed7953\"], [0.7777777777777778, \"#fb9f3a\"], [0.8888888888888888, \"#fdca26\"], [1.0, \"#f0f921\"]], \"type\": \"heatmapgl\"}], \"histogram\": [{\"marker\": {\"colorbar\": {\"outlinewidth\": 0, \"ticks\": \"\"}}, \"type\": \"histogram\"}], \"histogram2d\": [{\"colorbar\": {\"outlinewidth\": 0, \"ticks\": \"\"}, \"colorscale\": [[0.0, \"#0d0887\"], [0.1111111111111111, \"#46039f\"], [0.2222222222222222, \"#7201a8\"], [0.3333333333333333, \"#9c179e\"], [0.4444444444444444, \"#bd3786\"], [0.5555555555555556, \"#d8576b\"], [0.6666666666666666, \"#ed7953\"], [0.7777777777777778, \"#fb9f3a\"], [0.8888888888888888, \"#fdca26\"], [1.0, \"#f0f921\"]], \"type\": \"histogram2d\"}], \"histogram2dcontour\": [{\"colorbar\": {\"outlinewidth\": 0, \"ticks\": \"\"}, \"colorscale\": [[0.0, \"#0d0887\"], [0.1111111111111111, \"#46039f\"], [0.2222222222222222, \"#7201a8\"], [0.3333333333333333, \"#9c179e\"], [0.4444444444444444, \"#bd3786\"], [0.5555555555555556, \"#d8576b\"], [0.6666666666666666, \"#ed7953\"], [0.7777777777777778, \"#fb9f3a\"], [0.8888888888888888, \"#fdca26\"], [1.0, \"#f0f921\"]], \"type\": \"histogram2dcontour\"}], \"mesh3d\": [{\"colorbar\": {\"outlinewidth\": 0, \"ticks\": \"\"}, \"type\": \"mesh3d\"}], \"parcoords\": [{\"line\": {\"colorbar\": {\"outlinewidth\": 0, \"ticks\": \"\"}}, \"type\": \"parcoords\"}], \"pie\": [{\"automargin\": true, \"type\": \"pie\"}], \"scatter\": [{\"marker\": {\"colorbar\": {\"outlinewidth\": 0, \"ticks\": \"\"}}, \"type\": \"scatter\"}], \"scatter3d\": [{\"line\": {\"colorbar\": {\"outlinewidth\": 0, \"ticks\": \"\"}}, \"marker\": {\"colorbar\": {\"outlinewidth\": 0, \"ticks\": \"\"}}, \"type\": \"scatter3d\"}], \"scattercarpet\": [{\"marker\": {\"colorbar\": {\"outlinewidth\": 0, \"ticks\": \"\"}}, \"type\": \"scattercarpet\"}], \"scattergeo\": [{\"marker\": {\"colorbar\": {\"outlinewidth\": 0, \"ticks\": \"\"}}, \"type\": \"scattergeo\"}], \"scattergl\": [{\"marker\": {\"colorbar\": {\"outlinewidth\": 0, \"ticks\": \"\"}}, \"type\": \"scattergl\"}], \"scattermapbox\": [{\"marker\": {\"colorbar\": {\"outlinewidth\": 0, \"ticks\": \"\"}}, \"type\": \"scattermapbox\"}], \"scatterpolar\": [{\"marker\": {\"colorbar\": {\"outlinewidth\": 0, \"ticks\": \"\"}}, \"type\": \"scatterpolar\"}], \"scatterpolargl\": [{\"marker\": {\"colorbar\": {\"outlinewidth\": 0, \"ticks\": \"\"}}, \"type\": \"scatterpolargl\"}], \"scatterternary\": [{\"marker\": {\"colorbar\": {\"outlinewidth\": 0, \"ticks\": \"\"}}, \"type\": \"scatterternary\"}], \"surface\": [{\"colorbar\": {\"outlinewidth\": 0, \"ticks\": \"\"}, \"colorscale\": [[0.0, \"#0d0887\"], [0.1111111111111111, \"#46039f\"], [0.2222222222222222, \"#7201a8\"], [0.3333333333333333, \"#9c179e\"], [0.4444444444444444, \"#bd3786\"], [0.5555555555555556, \"#d8576b\"], [0.6666666666666666, \"#ed7953\"], [0.7777777777777778, \"#fb9f3a\"], [0.8888888888888888, \"#fdca26\"], [1.0, \"#f0f921\"]], \"type\": \"surface\"}], \"table\": [{\"cells\": {\"fill\": {\"color\": \"#EBF0F8\"}, \"line\": {\"color\": \"white\"}}, \"header\": {\"fill\": {\"color\": \"#C8D4E3\"}, \"line\": {\"color\": \"white\"}}, \"type\": \"table\"}]}, \"layout\": {\"annotationdefaults\": {\"arrowcolor\": \"#2a3f5f\", \"arrowhead\": 0, \"arrowwidth\": 1}, \"coloraxis\": {\"colorbar\": {\"outlinewidth\": 0, \"ticks\": \"\"}}, \"colorscale\": {\"diverging\": [[0, \"#8e0152\"], [0.1, \"#c51b7d\"], [0.2, \"#de77ae\"], [0.3, \"#f1b6da\"], [0.4, \"#fde0ef\"], [0.5, \"#f7f7f7\"], [0.6, \"#e6f5d0\"], [0.7, \"#b8e186\"], [0.8, \"#7fbc41\"], [0.9, \"#4d9221\"], [1, \"#276419\"]], \"sequential\": [[0.0, \"#0d0887\"], [0.1111111111111111, \"#46039f\"], [0.2222222222222222, \"#7201a8\"], [0.3333333333333333, \"#9c179e\"], [0.4444444444444444, \"#bd3786\"], [0.5555555555555556, \"#d8576b\"], [0.6666666666666666, \"#ed7953\"], [0.7777777777777778, \"#fb9f3a\"], [0.8888888888888888, \"#fdca26\"], [1.0, \"#f0f921\"]], \"sequentialminus\": [[0.0, \"#0d0887\"], [0.1111111111111111, \"#46039f\"], [0.2222222222222222, \"#7201a8\"], [0.3333333333333333, \"#9c179e\"], [0.4444444444444444, \"#bd3786\"], [0.5555555555555556, \"#d8576b\"], [0.6666666666666666, \"#ed7953\"], [0.7777777777777778, \"#fb9f3a\"], [0.8888888888888888, \"#fdca26\"], [1.0, \"#f0f921\"]]}, \"colorway\": [\"#636efa\", \"#EF553B\", \"#00cc96\", \"#ab63fa\", \"#FFA15A\", \"#19d3f3\", \"#FF6692\", \"#B6E880\", \"#FF97FF\", \"#FECB52\"], \"font\": {\"color\": \"#2a3f5f\"}, \"geo\": {\"bgcolor\": \"white\", \"lakecolor\": \"white\", \"landcolor\": \"#E5ECF6\", \"showlakes\": true, \"showland\": true, \"subunitcolor\": \"white\"}, \"hoverlabel\": {\"align\": \"left\"}, \"hovermode\": \"closest\", \"mapbox\": {\"style\": \"light\"}, \"paper_bgcolor\": \"white\", \"plot_bgcolor\": \"#E5ECF6\", \"polar\": {\"angularaxis\": {\"gridcolor\": \"white\", \"linecolor\": \"white\", \"ticks\": \"\"}, \"bgcolor\": \"#E5ECF6\", \"radialaxis\": {\"gridcolor\": \"white\", \"linecolor\": \"white\", \"ticks\": \"\"}}, \"scene\": {\"xaxis\": {\"backgroundcolor\": \"#E5ECF6\", \"gridcolor\": \"white\", \"gridwidth\": 2, \"linecolor\": \"white\", \"showbackground\": true, \"ticks\": \"\", \"zerolinecolor\": \"white\"}, \"yaxis\": {\"backgroundcolor\": \"#E5ECF6\", \"gridcolor\": \"white\", \"gridwidth\": 2, \"linecolor\": \"white\", \"showbackground\": true, \"ticks\": \"\", \"zerolinecolor\": \"white\"}, \"zaxis\": {\"backgroundcolor\": \"#E5ECF6\", \"gridcolor\": \"white\", \"gridwidth\": 2, \"linecolor\": \"white\", \"showbackground\": true, \"ticks\": \"\", \"zerolinecolor\": \"white\"}}, \"shapedefaults\": {\"line\": {\"color\": \"#2a3f5f\"}}, \"ternary\": {\"aaxis\": {\"gridcolor\": \"white\", \"linecolor\": \"white\", \"ticks\": \"\"}, \"baxis\": {\"gridcolor\": \"white\", \"linecolor\": \"white\", \"ticks\": \"\"}, \"bgcolor\": \"#E5ECF6\", \"caxis\": {\"gridcolor\": \"white\", \"linecolor\": \"white\", \"ticks\": \"\"}}, \"title\": {\"x\": 0.05}, \"xaxis\": {\"automargin\": true, \"gridcolor\": \"white\", \"linecolor\": \"white\", \"ticks\": \"\", \"title\": {\"standoff\": 15}, \"zerolinecolor\": \"white\", \"zerolinewidth\": 2}, \"yaxis\": {\"automargin\": true, \"gridcolor\": \"white\", \"linecolor\": \"white\", \"ticks\": \"\", \"title\": {\"standoff\": 15}, \"zerolinecolor\": \"white\", \"zerolinewidth\": 2}}}, \"title\": {\"text\": \"World Power Consumption\"}},\n",
       "                        {\"responsive\": true}\n",
       "                    ).then(function(){\n",
       "                            \n",
       "var gd = document.getElementById('1fdda780-8971-4852-9163-78e9670728b8');\n",
       "var x = new MutationObserver(function (mutations, observer) {{\n",
       "        var display = window.getComputedStyle(gd).display;\n",
       "        if (!display || display === 'none') {{\n",
       "            console.log([gd, 'removed!']);\n",
       "            Plotly.purge(gd);\n",
       "            observer.disconnect();\n",
       "        }}\n",
       "}});\n",
       "\n",
       "// Listen for the removal of the full notebook cells\n",
       "var notebookContainer = gd.closest('#notebook-container');\n",
       "if (notebookContainer) {{\n",
       "    x.observe(notebookContainer, {childList: true});\n",
       "}}\n",
       "\n",
       "// Listen for the clearing of the current output cell\n",
       "var outputEl = gd.closest('.output');\n",
       "if (outputEl) {{\n",
       "    x.observe(outputEl, {childList: true});\n",
       "}}\n",
       "\n",
       "                        })\n",
       "                };\n",
       "                });\n",
       "            </script>\n",
       "        </div>"
      ]
     },
     "metadata": {},
     "output_type": "display_data"
    }
   ],
   "source": [
    "fig = go.Figure(data=go.Choropleth(\n",
    "    locationmode='country names',\n",
    "    locations = energy['Country'],\n",
    "    z = energy['Power Consumption KWH'],\n",
    "    colorbar_title='kWh',\n",
    "    text='Consumption of '+energy['Text']+'kWh'\n",
    "))\n",
    "fig.update_layout(\n",
    "    title_text='World Power Consumption',\n",
    "    geo_scope = 'world'\n",
    "\n",
    ")"
   ]
  },
  {
   "cell_type": "code",
   "execution_count": null,
   "metadata": {},
   "outputs": [],
   "source": []
  }
 ],
 "metadata": {
  "kernelspec": {
   "display_name": "Python 3",
   "language": "python",
   "name": "python3"
  },
  "language_info": {
   "codemirror_mode": {
    "name": "ipython",
    "version": 3
   },
   "file_extension": ".py",
   "mimetype": "text/x-python",
   "name": "python",
   "nbconvert_exporter": "python",
   "pygments_lexer": "ipython3",
   "version": "3.7.4"
  }
 },
 "nbformat": 4,
 "nbformat_minor": 2
}
